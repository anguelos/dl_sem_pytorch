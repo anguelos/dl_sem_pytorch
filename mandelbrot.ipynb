{
 "cells": [
  {
   "cell_type": "markdown",
   "metadata": {},
   "source": [
    "# Pytorch as a generic algebra library:\n",
    "\n",
    "\n",
    "Pytorch is a generic symbolic math toolbox with all the easiness of a generic matrix software such as numpy or matlab.\n",
    "\n",
    "\n",
    "## Drawing the Mandelbrot set\n",
    "\n",
    "#### Installing Requirements:"
   ]
  },
  {
   "cell_type": "code",
   "execution_count": null,
   "metadata": {},
   "outputs": [],
   "source": [
    "#!pip install --user torch matplotlib #uncomment to install"
   ]
  },
  {
   "cell_type": "markdown",
   "metadata": {},
   "source": [
    "#### Lets import all we 'll need:"
   ]
  },
  {
   "cell_type": "code",
   "execution_count": null,
   "metadata": {},
   "outputs": [],
   "source": [
    "import torch\n",
    "from matplotlib import pyplot as plt\n",
    "import time\n",
    "from mpl_toolkits.axes_grid1 import make_axes_locatable # just for the ploting colorbars"
   ]
  },
  {
   "cell_type": "markdown",
   "metadata": {},
   "source": [
    "#### Lets define some ploting code:\n",
    "\n",
    "While it plots pytorch data, the same code would plot numpy or simple lists."
   ]
  },
  {
   "cell_type": "code",
   "execution_count": null,
   "metadata": {},
   "outputs": [],
   "source": [
    "def plot_field(z):\n",
    "    real,imaginary = z\n",
    "    f, ax = plt.subplots(1,2)\n",
    "    \n",
    "    im_r=ax[0].imshow(real)\n",
    "    divider = make_axes_locatable(ax[0])\n",
    "    cax = divider.append_axes('right', size='5%', pad=0.05)\n",
    "    f.colorbar(im_r, cax=cax, orientation='vertical')\n",
    "    ax[0].set_title(\"Real\")\n",
    "\n",
    "    im_imag=ax[1].imshow(imaginary)\n",
    "    divider = make_axes_locatable(ax[1])\n",
    "    cax = divider.append_axes('right', size='5%', pad=0.05)\n",
    "    f.colorbar(im_imag, cax=cax, orientation='vertical')\n",
    "    ax[1].set_title(\"Imaginary\")\n",
    "\n",
    "    \n",
    "\n",
    "def plot_fractal(fractal, color_count=5, figsize=(20,20), cmap=\"gray\"):\n",
    "    fig = plt.figure(figsize=figsize)\n",
    "    outside_set = (fractal<fractal.max()).int()\n",
    "    fractal=(fractal%(color_count-1)+1)*outside_set\n",
    "    plt.imshow(fractal,cmap=cmap)\n",
    "    fig.axes[0].get_xaxis().set_visible(False)\n",
    "    fig.axes[0].get_yaxis().set_visible(False)"
   ]
  },
  {
   "cell_type": "markdown",
   "metadata": {},
   "source": [
    "#### Lets sample the imaginary plane \n",
    "\n",
    "Sampling rate: 600/4\n",
    "<pre>\n",
    "\n",
    "Top left corner: <b>-2-2j</b>             Top Right corner:   <b>2-2j</b>\n",
    "\n",
    "\n",
    "Bottom right:    <b>2+2j</b>             Bottom Right corner: <b>2+2j</b>\n",
    "</pre>"
   ]
  },
  {
   "cell_type": "code",
   "execution_count": null,
   "metadata": {},
   "outputs": [],
   "source": [
    "PIXELS = 600\n",
    "\n",
    "c_imaginary = torch.linspace(2,-2,PIXELS).view(-1,1).repeat(1,PIXELS)\n",
    "c_real = torch.linspace(-2,2,PIXELS).view(1,-1).repeat(PIXELS,1)"
   ]
  },
  {
   "cell_type": "code",
   "execution_count": null,
   "metadata": {},
   "outputs": [],
   "source": [
    "plot_field((c_real,c_imaginary))"
   ]
  },
  {
   "cell_type": "markdown",
   "metadata": {},
   "source": [
    "#### Defining pytorch complex math\n",
    "\n",
    "Pytorch doesn't support complex math directly so we model complex tensors as a tuple of tensors.\n",
    "\n",
    "The first tensor represents real values of the complex tensor and the second tensor in the tuple represents imaginary values.\n",
    "\n",
    "\n",
    "Addition:\n",
    "$$ z_1 + z_2 = Re(z_1)+Re(z_2)+i(Im(z_1)+Im(z_2)) $$\n",
    "\n",
    "Multiplication:\n",
    "$$ z_1 * z_2 = Re(z_1)*Re(z_2) -Im(z_1) *Im(z_2) + i(Re(z_1)*Im(z_2)-i(Im(z_1)*Re(z_2))) $$\n",
    "\n",
    "Absolute value (length):\n",
    "$$ |z| = \\sqrt{Re(z)^2+Im(z)^2} $$\n"
   ]
  },
  {
   "cell_type": "code",
   "execution_count": null,
   "metadata": {},
   "outputs": [],
   "source": [
    "complex_add = lambda c1, c2 : (c1[0] + c2[0], c1[1] + c2[1])\n",
    "complex_mult = lambda c1, c2 : (c1[0] * c1[0] - c2[1] * c2[1], c1[1] * c2[0] + c1[0] * c2[1])\n",
    "complex_abs = lambda c :(c[0] ** 2 + c[1] ** 2) ** .5"
   ]
  },
  {
   "cell_type": "markdown",
   "metadata": {},
   "source": [
    "#### Puting all together for modestly heavy CPU computation:\n",
    "\n",
    "The [Mandelbrot set](https://en.wikipedia.org/wiki/Mandelbrot_set) is the set of complexnumbers  who do not diverge by applying the recusive formula:\n",
    "$$ Z = Z^2 + C$$"
   ]
  },
  {
   "cell_type": "code",
   "execution_count": null,
   "metadata": {},
   "outputs": [],
   "source": [
    "C = c_real, c_imaginary\n",
    "Z = torch.zeros_like(c_real), torch.zeros_like(c_imaginary)\n",
    "fractal=torch.zeros([PIXELS,PIXELS],dtype=torch.int32)\n",
    "t=time.time()\n",
    "STEPS=128\n",
    "for n in range(STEPS):\n",
    "    Z = complex_add(complex_mult(Z, Z), C)\n",
    "    fractal=fractal+(complex_abs(Z)<2).int()\n",
    "print(\"CPU Computed an image of {}x{} pixels for {} steps in {:0.2f} msec.\".format(\n",
    "    PIXELS,PIXELS,STEPS,1000*(time.time()-t)))\n",
    "plot_fractal(fractal)"
   ]
  },
  {
   "cell_type": "markdown",
   "metadata": {},
   "source": [
    "#### Runing on GPU rather than CPU:"
   ]
  },
  {
   "cell_type": "code",
   "execution_count": null,
   "metadata": {},
   "outputs": [],
   "source": [
    "try:\n",
    "    C = c_real.cuda(), c_imaginary.cuda()\n",
    "    Z = torch.zeros_like(c_real).cuda(), torch.zeros_like(c_imaginary).cuda()\n",
    "    t=time.time()\n",
    "    fractal=torch.zeros([PIXELS,PIXELS],dtype=torch.int32).cuda()\n",
    "    STEPS=128\n",
    "    for n in range(STEPS):\n",
    "        Z = complex_add(complex_mult(Z,Z), C)\n",
    "        fractal=fractal+(complex_abs(Z)<2).int()\n",
    "    print(\"GPU Computed an image of {}x{} pixels for {} steps in {:0.2f} msec.\".format(\n",
    "        PIXELS,PIXELS,STEPS,1000*(time.time()-t)))\n",
    "    plot_fractal(fractal.cpu())\n",
    "except:\n",
    "    print(\"Could not compute Mandelbrot on the GPU\")"
   ]
  },
  {
   "cell_type": "markdown",
   "metadata": {},
   "source": [
    "### Since version 1.7 pytorch added a new complex tensor type.\n",
    "### How faster is it to use it?"
   ]
  },
  {
   "cell_type": "code",
   "execution_count": null,
   "metadata": {},
   "outputs": [],
   "source": [
    "try:\n",
    "    C=torch.view_as_complex(torch.cat([c_real.unsqueeze(-1), c_imaginary.unsqueeze(-1)],dim=2)).cuda()\n",
    "    Z = torch.zeros_like(C)\n",
    "    t=time.time()\n",
    "    fractal=torch.zeros([PIXELS,PIXELS],dtype=torch.int32).cuda()\n",
    "    STEPS=128\n",
    "    for n in range(STEPS):\n",
    "        Z = Z * Z + C\n",
    "        fractal=fractal+(Z.abs()<2).int()\n",
    "    print(\"GPU Computed an image of {}x{} pixels for {} steps in {:0.2f} msec.\".format(\n",
    "        PIXELS,PIXELS,STEPS,1000*(time.time()-t)))\n",
    "    plot_fractal(fractal.cpu())\n",
    "except:\n",
    "    print(\"Could not compute Mandelbrot on the GPU, Settled for CPU.\")\n",
    "    C=torch.view_as_complex(torch.cat([c_real.unsqueeze(-1), c_imaginary.unsqueeze(-1)],dim=2)).cpu()\n",
    "    Z = torch.zeros_like(C)\n",
    "    t=time.time()\n",
    "    fractal=torch.zeros([PIXELS,PIXELS],dtype=torch.int32).cpu()\n",
    "    STEPS=128\n",
    "    for n in range(STEPS):\n",
    "        Z = Z * Z + C #complex_add(complex_mult(Z,Z), C)\n",
    "        fractal=fractal+(Z.abs()<2).int()\n",
    "    print(\"GPU Computed an image of {}x{} pixels for {} steps in {:0.2f} msec.\".format(\n",
    "        PIXELS,PIXELS,STEPS,1000*(time.time()-t)))\n",
    "    plot_fractal(fractal.cpu())"
   ]
  },
  {
   "cell_type": "markdown",
   "metadata": {},
   "source": [
    "#### TODO on your own\n",
    "\n",
    "* Change mandelbrot for the range **[-2-0.25j, -1.5+0.25j]**\n",
    "* Plot the 4th [multibrot](https://en.wikipedia.org/wiki/Multibrot_set) using the formula $$ Z = Z^4 + C $$\n",
    "* (Longer, at home) Plot PIXELS vs. Duration for CPU and GPU and STEPS vs Duration for CPU and GPU"
   ]
  },
  {
   "cell_type": "code",
   "execution_count": null,
   "metadata": {},
   "outputs": [],
   "source": []
  }
 ],
 "metadata": {
  "kernelspec": {
   "display_name": "Python 3",
   "language": "python",
   "name": "python3"
  },
  "language_info": {
   "codemirror_mode": {
    "name": "ipython",
    "version": 3
   },
   "file_extension": ".py",
   "mimetype": "text/x-python",
   "name": "python",
   "nbconvert_exporter": "python",
   "pygments_lexer": "ipython3",
   "version": "3.6.9"
  }
 },
 "nbformat": 4,
 "nbformat_minor": 2
}
