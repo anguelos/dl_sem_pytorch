{
 "cells": [
  {
   "cell_type": "markdown",
   "metadata": {
    "colab_type": "text",
    "id": "nFS_f2nh1MKZ"
   },
   "source": [
    "# Pytorch as a generic algebra library:\n",
    "\n",
    "\n",
    "Pytorch is a generic symbolic math toolbox with all the easiness of a generic matrix software such as numpy or matlab.\n",
    "\n",
    "\n",
    "## Drawing the Mandelbrot set\n",
    "\n",
    "#### Installing Requirements:"
   ]
  },
  {
   "cell_type": "code",
   "execution_count": 1,
   "metadata": {
    "colab": {},
    "colab_type": "code",
    "id": "pm0zPV_c1MKa"
   },
   "outputs": [],
   "source": [
    "#!pip install --user torch matplotlib #uncomment to install"
   ]
  },
  {
   "cell_type": "markdown",
   "metadata": {
    "colab_type": "text",
    "id": "UmD-lNJq1MKe"
   },
   "source": [
    "#### Lets import all we 'll need:"
   ]
  },
  {
   "cell_type": "code",
   "execution_count": 2,
   "metadata": {
    "colab": {},
    "colab_type": "code",
    "id": "iYtQlUUV1MKf"
   },
   "outputs": [],
   "source": [
    "import torch\n",
    "from matplotlib import pyplot as plt\n",
    "import time\n",
    "from mpl_toolkits.axes_grid1 import make_axes_locatable # just for the ploting colorbars"
   ]
  },
  {
   "cell_type": "markdown",
   "metadata": {
    "colab_type": "text",
    "id": "zaUkssiO1MKi"
   },
   "source": [
    "#### Lets define some ploting code:\n",
    "\n",
    "While it plots pytorch data, the same code would plot numpy or simple lists."
   ]
  },
  {
   "cell_type": "code",
   "execution_count": 3,
   "metadata": {
    "colab": {},
    "colab_type": "code",
    "id": "ojuHS14J1MKj"
   },
   "outputs": [],
   "source": [
    "def plot_field(z):\n",
    "    real,imaginary = z\n",
    "    f, ax = plt.subplots(1,2)\n",
    "    \n",
    "    im_r=ax[0].imshow(real)\n",
    "    divider = make_axes_locatable(ax[0])\n",
    "    cax = divider.append_axes('right', size='5%', pad=0.05)\n",
    "    f.colorbar(im_r, cax=cax, orientation='vertical')\n",
    "    ax[0].set_title(\"Real\")\n",
    "\n",
    "    im_imag=ax[1].imshow(imaginary)\n",
    "    divider = make_axes_locatable(ax[1])\n",
    "    cax = divider.append_axes('right', size='5%', pad=0.05)\n",
    "    f.colorbar(im_imag, cax=cax, orientation='vertical')\n",
    "    ax[1].set_title(\"Imaginary\")\n",
    "\n",
    "    \n",
    "\n",
    "def plot_fractal(fractal, color_count=5, figsize=(20,20), cmap=\"gray\"):\n",
    "    fig = plt.figure(figsize=figsize)\n",
    "    outside_set = (fractal<fractal.max()).int()\n",
    "    fractal=(fractal%(color_count-1)+1)*outside_set\n",
    "    plt.imshow(fractal,cmap=cmap)\n",
    "    fig.axes[0].get_xaxis().set_visible(False)\n",
    "    fig.axes[0].get_yaxis().set_visible(False)"
   ]
  },
  {
   "cell_type": "markdown",
   "metadata": {
    "colab_type": "text",
    "id": "cQfY_3qW1MKn"
   },
   "source": [
    "#### Lets sample the imaginary plane \n",
    "\n",
    "Sampling rate: 600/4\n",
    "<pre>\n",
    "\n",
    "Top left corner: <b>-2-2j</b>             Top Right corner:   <b>2-2j</b>\n",
    "\n",
    "\n",
    "Bottom right:    <b>2+2j</b>             Bottom Right corner: <b>2+2j</b>\n",
    "</pre>"
   ]
  },
  {
   "cell_type": "code",
   "execution_count": 4,
   "metadata": {
    "colab": {},
    "colab_type": "code",
    "id": "4cAnsqF51MKo"
   },
   "outputs": [],
   "source": [
    "PIXELS = 600\n",
    "\n",
    "c_imaginary = torch.linspace(2,-2,PIXELS).view(-1,1).repeat(1,PIXELS)\n",
    "c_real = torch.linspace(-2,2,PIXELS).view(1,-1).repeat(PIXELS,1)"
   ]
  },
  {
   "cell_type": "code",
   "execution_count": 5,
   "metadata": {
    "colab": {},
    "colab_type": "code",
    "id": "5rfnHhpp1MKr",
    "outputId": "8bbc2d6e-25a2-4a28-9d73-fdeb5df70d29"
   },
   "outputs": [
    {
     "data": {
      "image/png": "[encoded data removed]",
      "text/plain": [
       "<Figure size 432x288 with 4 Axes>"
      ]
     },
     "metadata": {
      "needs_background": "light"
     },
     "output_type": "display_data"
    }
   ],
   "source": [
    "plot_field((c_real,c_imaginary))"
   ]
  },
  {
   "cell_type": "markdown",
   "metadata": {
    "colab_type": "text",
    "id": "5y5ew3KM1MKw"
   },
   "source": [
    "#### Defining pytorch complex math\n",
    "\n",
    "Pytorch doesn't support complex math directly so we model complex tensors as a tuple of tensors.\n",
    "\n",
    "The first tensor represents real values of the complex tensor and the second tensor in the tuple represents imaginary values.\n",
    "\n",
    "\n",
    "Addition:\n",
    "$$ z_1 + z_2 = Re(z_1)+Re(z_2)+i(Im(z_1)+Im(z_2)) $$\n",
    "\n",
    "Multiplication:\n",
    "$$ z_1 * z_2 = Re(z_1)*Re(z_2) -Im(z_1) *Im(z_2) + i(Re(z_1)*Im(z_2)-i(Im(z_1)*Re(z_2))) $$\n",
    "\n",
    "Absolute value (length):\n",
    "$$ |z| = \\sqrt{Re(z)^2+Im(z)^2} $$\n"
   ]
  },
  {
   "cell_type": "code",
   "execution_count": 6,
   "metadata": {
    "colab": {},
    "colab_type": "code",
    "id": "qn0xiyqB1MKx"
   },
   "outputs": [],
   "source": [
    "complex_add = lambda c1, c2 : (c1[0] + c2[0], c1[1] + c2[1])\n",
    "complex_mult = lambda c1, c2 : (c1[0] * c1[0] - c2[1] * c2[1], c1[1] * c2[0] + c1[0] * c2[1])\n",
    "complex_abs = lambda c :(c[0] ** 2 + c[1] ** 2) ** .5"
   ]
  },
  {
   "cell_type": "markdown",
   "metadata": {
    "colab_type": "text",
    "id": "vwYrKAXx1MK0"
   },
   "source": [
    "#### Puting all together for modestly heavy CPU computation:\n",
    "\n",
    "The [Mandelbrot set](https://en.wikipedia.org/wiki/Mandelbrot_set) is the set of complexnumbers  who do not diverge by applying the recusive formula:\n",
    "$$ Z = Z^2 + C$$"
   ]
  },
  {
   "cell_type": "code",
   "execution_count": 7,
   "metadata": {
    "colab": {},
    "colab_type": "code",
    "id": "-ta9RHrj1MK1",
    "outputId": "17962dfa-b227-44db-8025-e4655696e59c"
   },
   "outputs": [
    {
     "name": "stdout",
     "output_type": "stream",
     "text": [
      "CPU Computed an image of 600x600 pixels for 128 steps in 249.04 msec.\n"
     ]
    },
    {
     "data": {
      "image/png": "[encoded data removed]",
      "text/plain": [
       "<Figure size 1440x1440 with 1 Axes>"
      ]
     },
     "metadata": {
      "needs_background": "light"
     },
     "output_type": "display_data"
    }
   ],
   "source": [
    "C = c_real, c_imaginary\n",
    "Z = torch.zeros_like(c_real), torch.zeros_like(c_imaginary)\n",
    "fractal=torch.zeros([PIXELS,PIXELS],dtype=torch.int32)\n",
    "t=time.time()\n",
    "STEPS=128\n",
    "for n in range(STEPS):\n",
    "    Z = complex_add(complex_mult(Z, Z), C)\n",
    "    fractal=fractal+(complex_abs(Z)<2).int()\n",
    "print(\"CPU Computed an image of {}x{} pixels for {} steps in {:0.2f} msec.\".format(\n",
    "    PIXELS,PIXELS,STEPS,1000*(time.time()-t)))\n",
    "plot_fractal(fractal)"
   ]
  },
  {
   "cell_type": "markdown",
   "metadata": {
    "colab_type": "text",
    "id": "NTP5s7Ph1MK4"
   },
   "source": [
    "#### Runing on GPU rather than CPU:"
   ]
  },
  {
   "cell_type": "code",
   "execution_count": 8,
   "metadata": {
    "colab": {},
    "colab_type": "code",
    "id": "8__KxbmE1MK5",
    "outputId": "13bbd02c-b2bd-47b8-b03a-ff52a5bda390"
   },
   "outputs": [
    {
     "name": "stdout",
     "output_type": "stream",
     "text": [
      "Could not compute Mandelbrot on the GPU\n"
     ]
    }
   ],
   "source": [
    "try:\n",
    "    C = c_real.cuda(), c_imaginary.cuda()\n",
    "    Z = torch.zeros_like(c_real).cuda(), torch.zeros_like(c_imaginary).cuda()\n",
    "    t=time.time()\n",
    "    fractal=torch.zeros([PIXELS,PIXELS],dtype=torch.int32).cuda()\n",
    "    STEPS=128\n",
    "    for n in range(STEPS):\n",
    "        Z = complex_add(complex_mult(Z,Z), C)\n",
    "        fractal=fractal+(complex_abs(Z)<2).int()\n",
    "    print(\"GPU Computed an image of {}x{} pixels for {} steps in {:0.2f} msec.\".format(\n",
    "        PIXELS,PIXELS,STEPS,1000*(time.time()-t)))\n",
    "    plot_fractal(fractal.cpu())\n",
    "except:\n",
    "    print(\"Could not compute Mandelbrot on the GPU\")"
   ]
  },
  {
   "cell_type": "markdown",
   "metadata": {
    "colab_type": "text",
    "id": "baiwl1h61MK8"
   },
   "source": [
    "#### TODO on your own\n",
    "\n",
    "* Change mandelbrot for the range **[-2-0.25j, -1.5+0.25j]**\n",
    "* Plot the 4th [multibrot](https://en.wikipedia.org/wiki/Multibrot_set) using the formula $$ Z = Z^4 + C $$\n",
    "* (Longer, at home) Plot PIXELS vs. Duration for CPU and GPU and STEPS vs Duration for CPU and GPU"
   ]
  },
  {
   "cell_type": "code",
   "execution_count": null,
   "metadata": {
    "colab": {},
    "colab_type": "code",
    "id": "TnyDFDe21MK9"
   },
   "outputs": [],
   "source": []
  }
 ],
 "metadata": {
  "colab": {
   "name": "mandelbrot.ipynb",
   "provenance": []
  },
  "kernelspec": {
   "display_name": "Python 3",
   "language": "python",
   "name": "python3"
  },
  "language_info": {
   "codemirror_mode": {
    "name": "ipython",
    "version": 3
   },
   "file_extension": ".py",
   "mimetype": "text/x-python",
   "name": "python",
   "nbconvert_exporter": "python",
   "pygments_lexer": "ipython3",
   "version": "3.6.9"
  }
 },
 "nbformat": 4,
 "nbformat_minor": 1
}
