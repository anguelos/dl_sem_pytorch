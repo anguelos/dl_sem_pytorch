{
 "cells": [
  {
   "cell_type": "markdown",
   "metadata": {},
   "source": [
    "## Quick intro to pytorch , digit image classification:\n",
    "\n",
    "**Author:** `Anguelos nicolaou anguelos.nikolaou@fau.de`\n",
    "\n",
    "### Installing Requirements:\n",
    "```bash\n",
    "pip install --user ipywidgets torchvision tqdm matplotlib\n",
    "```"
   ]
  },
  {
   "cell_type": "markdown",
   "metadata": {},
   "source": [
    "### Loading required packages"
   ]
  },
  {
   "cell_type": "code",
   "execution_count": 2,
   "metadata": {},
   "outputs": [],
   "source": [
    "from __future__ import print_function\n",
    "%matplotlib inline\n",
    "import time\n",
    "import torch\n",
    "import torch.nn.functional as F\n",
    "import torchvision\n",
    "import numpy as np\n",
    "from matplotlib import pyplot as plt\n",
    "import tqdm\n",
    "try:\n",
    "    from tqdm import tqdm as iter_progress\n",
    "except:\n",
    "    iter_progress=lambda x:x\n",
    "iter_progress=lambda x:x"
   ]
  },
  {
   "cell_type": "markdown",
   "metadata": {},
   "source": [
    "### Have we got GPU?"
   ]
  },
  {
   "cell_type": "code",
   "execution_count": 3,
   "metadata": {},
   "outputs": [
    {
     "name": "stdout",
     "output_type": "stream",
     "text": [
      "CPU will have to do\n"
     ]
    }
   ],
   "source": [
    "if torch.cuda.is_available():\n",
    "    print(\"GPU works\")\n",
    "    device = 'cuda'\n",
    "else:\n",
    "    print(\"CPU will have to do\")\n",
    "    device = 'cpu'"
   ]
  },
  {
   "cell_type": "code",
   "execution_count": 4,
   "metadata": {},
   "outputs": [
    {
     "name": "stdout",
     "output_type": "stream",
     "text": [
      "Downloading http://yann.lecun.com/exdb/mnist/train-images-idx3-ubyte.gz\n",
      "Downloading http://yann.lecun.com/exdb/mnist/train-labels-idx1-ubyte.gz\n",
      "Downloading http://yann.lecun.com/exdb/mnist/t10k-images-idx3-ubyte.gz\n",
      "Downloading http://yann.lecun.com/exdb/mnist/t10k-labels-idx1-ubyte.gz\n",
      "Processing...\n",
      "Done!\n"
     ]
    },
    {
     "name": "stderr",
     "output_type": "stream",
     "text": [
      "Clipping input data to the valid range for imshow with RGB data ([0..1] for floats or [0..255] for integers).\n"
     ]
    },
    {
     "data": {
      "text/plain": [
       "<matplotlib.image.AxesImage at 0x7f6d255e5748>"
      ]
     },
     "execution_count": 4,
     "metadata": {},
     "output_type": "execute_result"
    },
    {
     "data": {
      "image/png": "[encoded data removed]",
      "text/plain": [
       "<Figure size 432x288 with 1 Axes>"
      ]
     },
     "metadata": {
      "needs_background": "light"
     },
     "output_type": "display_data"
    }
   ],
   "source": [
    "transform_train = torchvision.transforms.Compose([\n",
    "    torchvision.transforms.ToTensor(),\n",
    "    torchvision.transforms.Normalize((0.1307,), (0.3081,))])\n",
    "\n",
    "transform_test = transform_train\n",
    "\n",
    "trainset = torchvision.datasets.MNIST(root='./data', train=True, download=True, transform=transform_train)\n",
    "trainloader = torch.utils.data.DataLoader(trainset, batch_size=2096, shuffle=True, num_workers=5)\n",
    "\n",
    "testset = torchvision.datasets.MNIST(root='./data', train=False, download=True, transform=transform_test)\n",
    "testloader = torch.utils.data.DataLoader(testset, batch_size=2096, shuffle=False, num_workers=5)\n",
    "\n",
    "images, labels = next(iter(testloader))\n",
    "img=torchvision.utils.make_grid(images[:32,:,:,:]).numpy()\n",
    "plt.imshow(img.transpose(1,2,0))"
   ]
  },
  {
   "cell_type": "markdown",
   "metadata": {},
   "source": [
    "### Define a simple CNN"
   ]
  },
  {
   "cell_type": "code",
   "execution_count": 5,
   "metadata": {},
   "outputs": [],
   "source": [
    "class Lenet5(torch.nn.Module):\n",
    "    def __init__(self):\n",
    "        super(Lenet5, self).__init__()\n",
    "        self.conv1 = torch.nn.Conv2d(1, 6, (5,5))\n",
    "        self.conv2 = torch.nn.Conv2d(6, 10, (5,5))\n",
    "        self.pool = torch.nn.MaxPool2d(2, 2)\n",
    "        self.fc1 = torch.nn.Linear(160, 120)\n",
    "        self.fc2 = torch.nn.Linear(120, 84)\n",
    "        self.fc_class = torch.nn.Linear(84, 10)\n",
    "\n",
    "    def forward(self, X):\n",
    "        layer1_activations=torch.tanh(self.conv1(X))\n",
    "        layer2_activations=self.pool(layer1_activations)\n",
    "        layer3_activations=torch.tanh(self.conv2(layer2_activations))\n",
    "        layer4_activations=self.pool(layer3_activations)\n",
    "        layer4_activations=layer4_activations.view([layer4_activations.size()[0],160])\n",
    "        layer5_activations=torch.tanh(self.fc1(layer4_activations))\n",
    "        layer6_activations=torch.tanh(self.fc2(layer5_activations))\n",
    "        output_logits = self.fc_class(layer6_activations)\n",
    "        return output_logits\n",
    "\n",
    "    def save(self, filename):\n",
    "        torch.save(self.state_dict(), filename)\n",
    "    \n",
    "    def load(self, filename):\n",
    "        self.load_state_dict(torch.load(filename))\n",
    "        "
   ]
  },
  {
   "cell_type": "markdown",
   "metadata": {},
   "source": [
    "### Define iterating over a single epoch\n",
    "(For train and test)"
   ]
  },
  {
   "cell_type": "code",
   "execution_count": 6,
   "metadata": {},
   "outputs": [],
   "source": [
    "def run_epoch(net,dataloader,criterion,device,optimizer=None):\n",
    "    net.train()\n",
    "    accumulated_loss = 0\n",
    "    correct = 0\n",
    "    total = 0\n",
    "    for batch_idx, (inputs, targets) in enumerate(iter_progress(dataloader)):\n",
    "        inputs, targets = inputs.to(device), targets.to(device)\n",
    "        if optimizer:\n",
    "            optimizer.zero_grad()\n",
    "        outputs = net(inputs)\n",
    "        loss = criterion(outputs, targets)\n",
    "        if optimizer:\n",
    "            loss.backward()\n",
    "            optimizer.step()\n",
    "        accumulated_loss += loss.item()\n",
    "        _, predicted = outputs.max(1)\n",
    "        total += targets.size(0)\n",
    "        correct += predicted.eq(targets).sum().item()\n",
    "    return correct,total,accumulated_loss"
   ]
  },
  {
   "cell_type": "markdown",
   "metadata": {},
   "source": [
    "### Train on CPU"
   ]
  },
  {
   "cell_type": "code",
   "execution_count": 7,
   "metadata": {},
   "outputs": [
    {
     "name": "stdout",
     "output_type": "stream",
     "text": [
      "Epoch: 0 Train Error: 72.45% Validation Error: 40.49% Loss: 65.28052496910095\n",
      "Epoch: 1 Train Error: 34.45% Validation Error: 30.98% Loss: 53.829861998558044\n",
      "Epoch: 2 Train Error: 26.85% Validation Error: 19.44% Loss: 30.917183339595795\n",
      "Epoch: 3 Train Error: 16.79% Validation Error: 13.47% Loss: 19.282427728176117\n",
      "Epoch: 4 Train Error: 13.02% Validation Error: 11.14% Loss: 14.508726835250854\n"
     ]
    },
    {
     "data": {
      "text/plain": [
       "Text(0.5, 1.0, 'Lenet5 error rates for 5 epochs on CPU 26.367 sec.')"
      ]
     },
     "execution_count": 7,
     "metadata": {},
     "output_type": "execute_result"
    },
    {
     "data": {
      "image/png": "[encoded data removed]",
      "text/plain": [
       "<Figure size 432x288 with 1 Axes>"
      ]
     },
     "metadata": {
      "needs_background": "light"
     },
     "output_type": "display_data"
    }
   ],
   "source": [
    "net=Lenet5()\n",
    "net.cpu()\n",
    "\n",
    "criterion = torch.nn.CrossEntropyLoss()\n",
    "optimizer = torch.optim.SGD(net.parameters(), lr=.01, momentum=0.9, weight_decay=5e-4)\n",
    "\n",
    "train_performance = []\n",
    "validation_performance = []\n",
    "t=time.time()\n",
    "for epoch in range(5):\n",
    "    train_correct,train_total,train_loss=run_epoch(net, trainloader, criterion, 'cpu', optimizer)\n",
    "    train_err=1-float(train_correct)/train_total\n",
    "    test_correct,test_total,test_error=run_epoch(net, testloader, criterion, 'cpu', None)\n",
    "    test_err=1-float(test_correct)/test_total\n",
    "    train_performance.append(train_err)\n",
    "    validation_performance.append(test_err)\n",
    "    print((\"Epoch: {} Train Error: {:0.2f}% Validation Error: {:0.2f}% Loss: {}\".format(\n",
    "        epoch,100*train_err,100*test_err,train_loss)))\n",
    "\n",
    "plt.semilogy([1,2,3,4,5],train_performance)\n",
    "plt.semilogy([1,2,3,4,5],validation_performance)\n",
    "plt.legend([\"Train Error\",\"Validation Error\",])\n",
    "plt.title(\"Lenet5 error rates for 5 epochs on CPU {:0.3f} sec.\".format((time.time()-t)))"
   ]
  },
  {
   "cell_type": "markdown",
   "metadata": {},
   "source": [
    "#### Save the trained model:"
   ]
  },
  {
   "cell_type": "code",
   "execution_count": 9,
   "metadata": {},
   "outputs": [],
   "source": [
    "torch.save(net.state_dict(), \"cpu_mnist.pt\")"
   ]
  },
  {
   "cell_type": "markdown",
   "metadata": {},
   "source": [
    "#### Resume the model:\n",
    "\n",
    "What is the diference between trained and untrained network?"
   ]
  },
  {
   "cell_type": "code",
   "execution_count": 10,
   "metadata": {},
   "outputs": [
    {
     "name": "stdout",
     "output_type": "stream",
     "text": [
      "Initial test error 89.76%\n",
      "Resumed test error 11.14%\n"
     ]
    }
   ],
   "source": [
    "net=Lenet5()\n",
    "net.cpu()\n",
    "test_correct,test_total,test_error=run_epoch(net, testloader, criterion, 'cpu', None)\n",
    "test_err=1-float(test_correct)/test_total\n",
    "print((\"Initial test error {:0.2f}%\".format(100*test_err)))\n",
    "net.load(\"cpu_mnist.pt\")\n",
    "test_correct,test_total,test_error=run_epoch(net, testloader, criterion, 'cpu', None)\n",
    "test_err=1-float(test_correct)/test_total\n",
    "print((\"Resumed test error {:0.2f}%\".format(100*test_err)))\n"
   ]
  },
  {
   "cell_type": "markdown",
   "metadata": {},
   "source": [
    "#### Train on GPU (at least try):"
   ]
  },
  {
   "cell_type": "code",
   "execution_count": 11,
   "metadata": {},
   "outputs": [
    {
     "name": "stdout",
     "output_type": "stream",
     "text": [
      "Epoch: 0 Train Error: 80.14% Validation Error: 53.89% Loss: 65.71740412712097\n",
      "Epoch: 10 Train Error: 6.92% Validation Error: 6.24% Loss: 7.3188802897930145\n"
     ]
    },
    {
     "ename": "KeyboardInterrupt",
     "evalue": "",
     "output_type": "error",
     "traceback": [
      "\u001b[0;31m---------------------------------------------------------------------------\u001b[0m",
      "\u001b[0;31mKeyboardInterrupt\u001b[0m                         Traceback (most recent call last)",
      "\u001b[0;32m<ipython-input-11-ee0d77a46eef>\u001b[0m in \u001b[0;36m<module>\u001b[0;34m\u001b[0m\n\u001b[1;32m     11\u001b[0m \u001b[0mt\u001b[0m\u001b[0;34m=\u001b[0m\u001b[0mtime\u001b[0m\u001b[0;34m.\u001b[0m\u001b[0mtime\u001b[0m\u001b[0;34m(\u001b[0m\u001b[0;34m)\u001b[0m\u001b[0;34m\u001b[0m\u001b[0;34m\u001b[0m\u001b[0m\n\u001b[1;32m     12\u001b[0m \u001b[0;32mfor\u001b[0m \u001b[0mepoch\u001b[0m \u001b[0;32min\u001b[0m \u001b[0mrange\u001b[0m\u001b[0;34m(\u001b[0m\u001b[0;36m50\u001b[0m\u001b[0;34m)\u001b[0m\u001b[0;34m:\u001b[0m\u001b[0;34m\u001b[0m\u001b[0;34m\u001b[0m\u001b[0m\n\u001b[0;32m---> 13\u001b[0;31m     \u001b[0mtrain_correct\u001b[0m\u001b[0;34m,\u001b[0m\u001b[0mtrain_total\u001b[0m\u001b[0;34m,\u001b[0m\u001b[0mtrain_loss\u001b[0m\u001b[0;34m=\u001b[0m\u001b[0mrun_epoch\u001b[0m\u001b[0;34m(\u001b[0m\u001b[0mnet\u001b[0m\u001b[0;34m,\u001b[0m \u001b[0mtrainloader\u001b[0m\u001b[0;34m,\u001b[0m \u001b[0mcriterion\u001b[0m\u001b[0;34m,\u001b[0m \u001b[0mdevice\u001b[0m\u001b[0;34m,\u001b[0m \u001b[0moptimizer\u001b[0m\u001b[0;34m)\u001b[0m\u001b[0;34m\u001b[0m\u001b[0;34m\u001b[0m\u001b[0m\n\u001b[0m\u001b[1;32m     14\u001b[0m     \u001b[0mtrain_err\u001b[0m\u001b[0;34m=\u001b[0m\u001b[0;36m1\u001b[0m\u001b[0;34m-\u001b[0m\u001b[0mfloat\u001b[0m\u001b[0;34m(\u001b[0m\u001b[0mtrain_correct\u001b[0m\u001b[0;34m)\u001b[0m\u001b[0;34m/\u001b[0m\u001b[0mtrain_total\u001b[0m\u001b[0;34m\u001b[0m\u001b[0;34m\u001b[0m\u001b[0m\n\u001b[1;32m     15\u001b[0m     \u001b[0mtest_correct\u001b[0m\u001b[0;34m,\u001b[0m\u001b[0mtest_total\u001b[0m\u001b[0;34m,\u001b[0m\u001b[0mtest_error\u001b[0m\u001b[0;34m=\u001b[0m\u001b[0mrun_epoch\u001b[0m\u001b[0;34m(\u001b[0m\u001b[0mnet\u001b[0m\u001b[0;34m,\u001b[0m \u001b[0mtestloader\u001b[0m\u001b[0;34m,\u001b[0m \u001b[0mcriterion\u001b[0m\u001b[0;34m,\u001b[0m \u001b[0mdevice\u001b[0m\u001b[0;34m,\u001b[0m \u001b[0;32mNone\u001b[0m\u001b[0;34m)\u001b[0m\u001b[0;34m\u001b[0m\u001b[0;34m\u001b[0m\u001b[0m\n",
      "\u001b[0;32m<ipython-input-6-c88fd6363f94>\u001b[0m in \u001b[0;36mrun_epoch\u001b[0;34m(net, dataloader, criterion, device, optimizer)\u001b[0m\n\u001b[1;32m     11\u001b[0m         \u001b[0mloss\u001b[0m \u001b[0;34m=\u001b[0m \u001b[0mcriterion\u001b[0m\u001b[0;34m(\u001b[0m\u001b[0moutputs\u001b[0m\u001b[0;34m,\u001b[0m \u001b[0mtargets\u001b[0m\u001b[0;34m)\u001b[0m\u001b[0;34m\u001b[0m\u001b[0;34m\u001b[0m\u001b[0m\n\u001b[1;32m     12\u001b[0m         \u001b[0;32mif\u001b[0m \u001b[0moptimizer\u001b[0m\u001b[0;34m:\u001b[0m\u001b[0;34m\u001b[0m\u001b[0;34m\u001b[0m\u001b[0m\n\u001b[0;32m---> 13\u001b[0;31m             \u001b[0mloss\u001b[0m\u001b[0;34m.\u001b[0m\u001b[0mbackward\u001b[0m\u001b[0;34m(\u001b[0m\u001b[0;34m)\u001b[0m\u001b[0;34m\u001b[0m\u001b[0;34m\u001b[0m\u001b[0m\n\u001b[0m\u001b[1;32m     14\u001b[0m             \u001b[0moptimizer\u001b[0m\u001b[0;34m.\u001b[0m\u001b[0mstep\u001b[0m\u001b[0;34m(\u001b[0m\u001b[0;34m)\u001b[0m\u001b[0;34m\u001b[0m\u001b[0;34m\u001b[0m\u001b[0m\n\u001b[1;32m     15\u001b[0m         \u001b[0maccumulated_loss\u001b[0m \u001b[0;34m+=\u001b[0m \u001b[0mloss\u001b[0m\u001b[0;34m.\u001b[0m\u001b[0mitem\u001b[0m\u001b[0;34m(\u001b[0m\u001b[0;34m)\u001b[0m\u001b[0;34m\u001b[0m\u001b[0;34m\u001b[0m\u001b[0m\n",
      "\u001b[0;32m~/.local/lib/python3.6/site-packages/torch/tensor.py\u001b[0m in \u001b[0;36mbackward\u001b[0;34m(self, gradient, retain_graph, create_graph)\u001b[0m\n\u001b[1;32m    193\u001b[0m                 \u001b[0mproducts\u001b[0m\u001b[0;34m.\u001b[0m \u001b[0mDefaults\u001b[0m \u001b[0mto\u001b[0m\u001b[0;31m \u001b[0m\u001b[0;31m`\u001b[0m\u001b[0;31m`\u001b[0m\u001b[0;32mFalse\u001b[0m\u001b[0;31m`\u001b[0m\u001b[0;31m`\u001b[0m\u001b[0;34m.\u001b[0m\u001b[0;34m\u001b[0m\u001b[0;34m\u001b[0m\u001b[0m\n\u001b[1;32m    194\u001b[0m         \"\"\"\n\u001b[0;32m--> 195\u001b[0;31m         \u001b[0mtorch\u001b[0m\u001b[0;34m.\u001b[0m\u001b[0mautograd\u001b[0m\u001b[0;34m.\u001b[0m\u001b[0mbackward\u001b[0m\u001b[0;34m(\u001b[0m\u001b[0mself\u001b[0m\u001b[0;34m,\u001b[0m \u001b[0mgradient\u001b[0m\u001b[0;34m,\u001b[0m \u001b[0mretain_graph\u001b[0m\u001b[0;34m,\u001b[0m \u001b[0mcreate_graph\u001b[0m\u001b[0;34m)\u001b[0m\u001b[0;34m\u001b[0m\u001b[0;34m\u001b[0m\u001b[0m\n\u001b[0m\u001b[1;32m    196\u001b[0m \u001b[0;34m\u001b[0m\u001b[0m\n\u001b[1;32m    197\u001b[0m     \u001b[0;32mdef\u001b[0m \u001b[0mregister_hook\u001b[0m\u001b[0;34m(\u001b[0m\u001b[0mself\u001b[0m\u001b[0;34m,\u001b[0m \u001b[0mhook\u001b[0m\u001b[0;34m)\u001b[0m\u001b[0;34m:\u001b[0m\u001b[0;34m\u001b[0m\u001b[0;34m\u001b[0m\u001b[0m\n",
      "\u001b[0;32m~/.local/lib/python3.6/site-packages/torch/autograd/__init__.py\u001b[0m in \u001b[0;36mbackward\u001b[0;34m(tensors, grad_tensors, retain_graph, create_graph, grad_variables)\u001b[0m\n\u001b[1;32m     97\u001b[0m     Variable._execution_engine.run_backward(\n\u001b[1;32m     98\u001b[0m         \u001b[0mtensors\u001b[0m\u001b[0;34m,\u001b[0m \u001b[0mgrad_tensors\u001b[0m\u001b[0;34m,\u001b[0m \u001b[0mretain_graph\u001b[0m\u001b[0;34m,\u001b[0m \u001b[0mcreate_graph\u001b[0m\u001b[0;34m,\u001b[0m\u001b[0;34m\u001b[0m\u001b[0;34m\u001b[0m\u001b[0m\n\u001b[0;32m---> 99\u001b[0;31m         allow_unreachable=True)  # allow_unreachable flag\n\u001b[0m\u001b[1;32m    100\u001b[0m \u001b[0;34m\u001b[0m\u001b[0m\n\u001b[1;32m    101\u001b[0m \u001b[0;34m\u001b[0m\u001b[0m\n",
      "\u001b[0;31mKeyboardInterrupt\u001b[0m: "
     ]
    }
   ],
   "source": [
    "net=Lenet5()\n",
    "#net.load(\"pretrained/lenet5_mnist.pt\")\n",
    "if device=='cuda':\n",
    "    net=net.cuda()\n",
    "\n",
    "criterion = torch.nn.CrossEntropyLoss()\n",
    "optimizer = torch.optim.SGD(net.parameters(), lr=.01, momentum=0.9, weight_decay=5e-4)\n",
    "\n",
    "train_performance = []\n",
    "validation_performance = []\n",
    "t=time.time()\n",
    "for epoch in range(50):\n",
    "    train_correct,train_total,train_loss=run_epoch(net, trainloader, criterion, device, optimizer)\n",
    "    train_err=1-float(train_correct)/train_total\n",
    "    test_correct,test_total,test_error=run_epoch(net, testloader, criterion, device, None)\n",
    "    test_err=1-float(test_correct)/test_total\n",
    "    train_performance.append(train_err)\n",
    "    validation_performance.append(test_err)\n",
    "    if epoch % 10 ==0:\n",
    "        print((\"Epoch: {} Train Error: {:0.2f}% Validation Error: {:0.2f}% Loss: {}\".format(\n",
    "            epoch,100*train_err,100*test_err,train_loss)))\n"
   ]
  },
  {
   "cell_type": "code",
   "execution_count": 13,
   "metadata": {},
   "outputs": [
    {
     "data": {
      "image/png": "[encoded data removed]",
      "text/plain": [
       "<Figure size 432x288 with 1 Axes>"
      ]
     },
     "metadata": {
      "needs_background": "light"
     },
     "output_type": "display_data"
    }
   ],
   "source": [
    "plt.clf()\n",
    "plt.semilogy(np.arange(1,len(train_performance)+1),train_performance)\n",
    "plt.semilogy(np.arange(1,len(validation_performance)+1),validation_performance)\n",
    "plt.legend([\"Train Error\",\"Validation Error\",])\n",
    "plt.title(\"Lenet5 error rates for 50 epochs on GPU {:0.3f} sec.\".format((time.time()-t)))\n",
    "mnist_train_performance=train_performance\n",
    "mnist_validation_performance=validation_performance"
   ]
  },
  {
   "cell_type": "markdown",
   "metadata": {},
   "source": [
    "### How about a more difficult dataset?"
   ]
  },
  {
   "cell_type": "code",
   "execution_count": null,
   "metadata": {},
   "outputs": [],
   "source": [
    "transform_train = torchvision.transforms.Compose([\n",
    "    torchvision.transforms.ToTensor(),\n",
    "    torchvision.transforms.Normalize((0.1307,), (0.3081,))])\n",
    "\n",
    "transform_test = transform_train\n",
    "\n",
    "trainset = torchvision.datasets.FashionMNIST(root='./fashion_data', train=True, download=True, transform=transform_train)\n",
    "trainloader = torch.utils.data.DataLoader(trainset, batch_size=2096, shuffle=True, num_workers=5)\n",
    "\n",
    "testset = torchvision.datasets.FashionMNIST(root='./fashion_data', train=False, download=True, transform=transform_test)\n",
    "testloader = torch.utils.data.DataLoader(testset, batch_size=2096, shuffle=False, num_workers=5)\n",
    "\n",
    "images, labels = next(iter(testloader))\n",
    "img=torchvision.utils.make_grid(images[:32,:,:,:]).numpy()*.3+.13\n",
    "plt.imshow(img.transpose(1,2,0))\n",
    "plt.title(\"Fashion MNIST samples\")"
   ]
  },
  {
   "cell_type": "markdown",
   "metadata": {},
   "source": [
    "### Train on the same model for a harder problem"
   ]
  },
  {
   "cell_type": "code",
   "execution_count": null,
   "metadata": {},
   "outputs": [],
   "source": [
    "net=Lenet5()\n",
    "#net.load(\"./pretrained/lenet5_fashion.pt\")\n",
    "if device=='cuda':\n",
    "    net.cuda()\n",
    "\n",
    "criterion = torch.nn.CrossEntropyLoss()\n",
    "optimizer = torch.optim.SGD(net.parameters(), lr=.01, momentum=0.9, weight_decay=5e-4)\n",
    "\n",
    "train_performance = []\n",
    "validation_performance = []\n",
    "\n",
    "for epoch in range(50):\n",
    "    train_correct,train_total,train_loss=run_epoch(net, trainloader, criterion, device, optimizer)\n",
    "    train_err=1-float(train_correct)/train_total\n",
    "    test_correct,test_total,test_error=run_epoch(net, testloader, criterion, device, None)\n",
    "    test_err=1-float(test_correct)/test_total\n",
    "    train_performance.append(train_err)\n",
    "    validation_performance.append(test_err)\n",
    "    if epoch % 10 == 0:\n",
    "        print((\"Epoch: {} Train Error: {:0.2f}% Validation Error: {:0.2f}% Loss: {}\".format(\n",
    "            epoch,100*train_err,100*test_err,train_loss)))\n",
    "\n",
    "plt.clf()\n",
    "plt.semilogy(np.arange(1,51),train_performance)\n",
    "plt.semilogy(np.arange(1,51),validation_performance)\n",
    "plt.semilogy(np.arange(1,51),mnist_train_performance)\n",
    "plt.semilogy(np.arange(1,51),mnist_validation_performance)\n",
    "plt.legend(['Fashion train error','Fashion test error','MNIST train error','MNIST test error'])\n",
    "plt.title(\"Lenet5 error rates for 50 epochs on GPU {:0.3f} sec.\".format((time.time()-t)))\n",
    "mnist_train_performance=train_performance\n",
    "mnist_validation_performance=validation_performance"
   ]
  },
  {
   "cell_type": "markdown",
   "metadata": {},
   "source": [
    "### Define a Larger Network"
   ]
  },
  {
   "cell_type": "code",
   "execution_count": null,
   "metadata": {},
   "outputs": [],
   "source": [
    "class ColorCNN(torch.nn.Module):\n",
    "    def __init__(self,filename=\"\",input_size=(32,32,3)):\n",
    "        super(ColorCNN, self).__init__()\n",
    "        self.input_size = input_size\n",
    "        self.conv1 = torch.nn.Conv2d(3, 16, (3, 3))\n",
    "        self.conv2 = torch.nn.Conv2d(16, 16, (3, 3))\n",
    "        \n",
    "        self.conv3 = torch.nn.Conv2d(16,32, (3, 3))\n",
    "        self.conv4 = torch.nn.Conv2d(32, 32, (3, 3))\n",
    "        \n",
    "        activation_width = lambda x: (((x-4)/2)-4)/2\n",
    "        activation_height = lambda x: (((x-4)/2)-4)/2\n",
    "        \n",
    "        self.pool = torch.nn.MaxPool2d(2, 2)\n",
    "        self.dropout2d = torch.nn.Dropout2d(p=0.1)\n",
    "        self.dropout_fc = torch.nn.Dropout(p=0.1)\n",
    "        \n",
    "        self.last_conv_size=int(activation_width(input_size[0])*activation_height(input_size[1])*int(self.conv4.bias.shape[0]))\n",
    "        \n",
    "        self.fc1 = torch.nn.Linear(self.last_conv_size, 256)\n",
    "        self.fc2 = torch.nn.Linear(256, 128)\n",
    "        self.fc_class = torch.nn.Linear(128, 10)\n",
    "        \n",
    "                \n",
    "    def forward(self,X):\n",
    "        layer1_activations=self.dropout2d( F.relu(self.conv1(X)))\n",
    "        layer2_activations=self.dropout2d( F.relu(self.conv2(layer1_activations)))\n",
    "        layer3_activations=self.pool(layer2_activations)\n",
    "\n",
    "        layer4_activations=self.dropout2d( F.relu(self.conv3(layer3_activations)))\n",
    "        layer5_activations=self.dropout2d( F.relu(self.conv4(layer4_activations)))\n",
    "        layer6_activations=self.pool(layer5_activations)\n",
    "\n",
    "        layer7_activations=layer6_activations.view([layer6_activations.size()[0], self.last_conv_size])\n",
    "        layer7_activations=self.dropout_fc(F.relu(self.fc1(layer7_activations)))\n",
    "        layer8_activations=self.dropout_fc(F.relu(self.fc2(layer7_activations)))\n",
    "        output_logits=self.fc_class(layer8_activations)\n",
    "        \n",
    "        return output_logits\n"
   ]
  },
  {
   "cell_type": "markdown",
   "metadata": {},
   "source": [
    "### Load a harder dataset"
   ]
  },
  {
   "cell_type": "code",
   "execution_count": null,
   "metadata": {},
   "outputs": [],
   "source": [
    "transform_train = torchvision.transforms.Compose([\n",
    "    torchvision.transforms.RandomCrop(32, padding=4),\n",
    "    torchvision.transforms.RandomHorizontalFlip(),\n",
    "    torchvision.transforms.ToTensor(),\n",
    "    torchvision.transforms.Normalize((0.4914, 0.4822, 0.4465), (0.2023, 0.1994, 0.2010)),\n",
    "])\n",
    "\n",
    "transform_test = torchvision.transforms.Compose([\n",
    "    torchvision.transforms.ToTensor(),\n",
    "    torchvision.transforms.Normalize((0.4914, 0.4822, 0.4465), (0.2023, 0.1994, 0.2010)),\n",
    "])\n",
    "\n",
    "trainset = torchvision.datasets.CIFAR10(root='./data', train=True, download=True, transform=transform_train)\n",
    "trainloader = torch.utils.data.DataLoader(trainset, batch_size=512, shuffle=True, num_workers=2)\n",
    "\n",
    "testset = torchvision.datasets.CIFAR10(root='./data', train=False, download=True, transform=transform_test)\n",
    "testloader = torch.utils.data.DataLoader(testset, batch_size=100, shuffle=False, num_workers=2)\n",
    "\n",
    "images, labels = next(iter(testloader))\n",
    "img=torchvision.utils.make_grid(images[:32,:,:,:]).numpy() / 2 + 0.5\n",
    "plt.imshow(img.transpose(1,2,0))"
   ]
  },
  {
   "cell_type": "markdown",
   "metadata": {},
   "source": [
    "### Train the larger network on the hardest dataset"
   ]
  },
  {
   "cell_type": "code",
   "execution_count": null,
   "metadata": {},
   "outputs": [],
   "source": [
    "net=ColorCNN()\n",
    "#net.load(\"./pretrained.old/color_cnn.pt\")\n",
    "if device=='cuda':\n",
    "    net.cuda()\n",
    "\n",
    "criterion = torch.nn.CrossEntropyLoss()\n",
    "optimizer = torch.optim.SGD(net.parameters(), lr=.01, momentum=0.9, weight_decay=5e-4)\n",
    "\n",
    "train_performance = []\n",
    "validation_performance = []\n",
    "\n",
    "for epoch in range(200):\n",
    "    train_correct,train_total,train_loss=run_epoch(net, trainloader, criterion, device, optimizer)\n",
    "    train_err=1-float(train_correct)/train_total\n",
    "    test_correct,test_total,test_error=run_epoch(net, testloader, criterion, device, None)\n",
    "    test_err=1-float(test_correct)/test_total\n",
    "    train_performance.append(train_err)\n",
    "    validation_performance.append(test_err)\n",
    "    if epoch % 10 == 0:\n",
    "        print((\"Epoch: {} Train Error: {:0.2f}% Validation Error: {:0.2f}% Loss: {}\".format(\n",
    "            epoch,100*train_err,100*test_err,train_loss)))\n",
    "\n",
    "plt.clf()\n",
    "plt.semilogy(np.arange(1,201),train_performance)\n",
    "plt.semilogy(np.arange(1,201),validation_performance)\n",
    "plt.legend(['Cifar10 train error','Cifar10 test error'])\n",
    "plt.title(\"Lenet5 error rates for 50 epochs on GPU {:0.3f} sec.\".format((time.time()-t)))\n",
    "plt.plot(train_performance)\n",
    "plt.plot(test_performance)"
   ]
  },
  {
   "cell_type": "code",
   "execution_count": null,
   "metadata": {},
   "outputs": [],
   "source": [
    "net=ColorCNN()\n",
    "net.load_state_dict(torch.load(\"color_cnn.pt\"))"
   ]
  },
  {
   "cell_type": "markdown",
   "metadata": {},
   "source": [
    "### Using tensofows ploting in pytorch\n",
    "\n",
    "#### Install tensorboardX and tensorflow\n",
    "```bash\n",
    "pip install --user tensorboardX tensorflow\n",
    "```\n",
    "\n",
    "#### Run tensorboard \n",
    "```bash\n",
    "tensorboard --logdir runs/*/\n",
    "```\n",
    "\n",
    "#### Open your browser\n",
    "\n",
    "http://127.0.0.1:6006"
   ]
  },
  {
   "cell_type": "code",
   "execution_count": null,
   "metadata": {},
   "outputs": [],
   "source": [
    "import tensorboardX\n",
    "net=ColorCNN()\n",
    "if device=='cuda':\n",
    "    net.cuda()\n",
    "\n",
    "criterion = torch.nn.CrossEntropyLoss()\n",
    "optimizer = torch.optim.SGD(net.parameters(), lr=.01, momentum=0.9, weight_decay=5e-4)\n",
    "\n",
    "train_performance = []\n",
    "validation_performance = []\n",
    "\n",
    "writer = tensorboardX.SummaryWriter()\n",
    "\n",
    "for epoch in range(40):\n",
    "    train_correct,train_total,train_loss=run_epoch(net, trainloader, criterion, device, optimizer)\n",
    "    train_err=1-float(train_correct)/train_total\n",
    "    test_correct,test_total,test_loss=run_epoch(net, testloader, criterion, device, None)\n",
    "    test_err=1-float(test_correct)/test_total\n",
    "    \n",
    "    writer.add_scalar('error/train',train_err, epoch)\n",
    "    writer.add_scalar('error/test', test_err, epoch)\n",
    "    \n",
    "    writer.add_scalar('loss/train', train_loss, epoch)\n",
    "    writer.add_scalar('loss/test', test_loss, epoch)\n",
    "    filter_image=(torchvision.utils.make_grid(net.conv1.weight).data.cpu()).numpy()#.transpose(1,2,0)\n",
    "    writer.add_image('filters/conv1',filter_image , epoch)\n",
    "    writer.add_text('text',\"Epoch: {} Train Error: {} Validation Error: {} Loss: {}\".format(\n",
    "        epoch,train_err,test_err,train_loss),epoch)\n"
   ]
  }
 ],
 "metadata": {
  "kernelspec": {
   "display_name": "Python 3",
   "language": "python",
   "name": "python3"
  },
  "language_info": {
   "codemirror_mode": {
    "name": "ipython",
    "version": 3
   },
   "file_extension": ".py",
   "mimetype": "text/x-python",
   "name": "python",
   "nbconvert_exporter": "python",
   "pygments_lexer": "ipython3",
   "version": "3.6.9"
  }
 },
 "nbformat": 4,
 "nbformat_minor": 2
}
